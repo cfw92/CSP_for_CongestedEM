{
 "cells": [
  {
   "cell_type": "code",
   "execution_count": 1,
   "id": "974025bd-972b-4eff-9d5e-0bd08336ed26",
   "metadata": {},
   "outputs": [
    {
     "name": "stdout",
     "output_type": "stream",
     "text": [
      "Scene built.\n",
      "\n",
      "ofdm_PSD_quicklook.png saved.\n",
      "\n",
      "ofdm_SPEC_quicklook.png saved.\n",
      "\n",
      "gfsk_PSD_quicklook.png saved.\n",
      "\n",
      "gfsk_SPEC_quicklook.png saved.\n",
      "\n",
      "uav_PSD_quicklook.png saved.\n",
      "\n",
      "uav_SPEC_quicklook.png saved.\n",
      "\n",
      "noise_PSD_quicklook.png saved.\n",
      "\n",
      "noise_SPEC_quicklook.png saved.\n",
      "\n",
      "Co-channel congestion @ 2.4 GHz_PSD_quicklook.png saved.\n",
      "\n",
      "Co-channel congestion @ 2.4 GHz_SPEC_quicklook.png saved.\n",
      "\n",
      "Center Frequency = 2412.000 MHz\n",
      "capture_id: 1\n"
     ]
    }
   ],
   "source": [
    "%run Write_to_MySQL.py"
   ]
  },
  {
   "cell_type": "code",
   "execution_count": 8,
   "id": "d41b769a-e76d-4c04-a86c-a7c92e2707c0",
   "metadata": {},
   "outputs": [
    {
     "name": "stdout",
     "output_type": "stream",
     "text": [
      "IQ loaded from database.\n",
      "\n",
      "Complex SCF computed.\n",
      "\n",
      "SCF plotted.\n",
      "\n",
      "Done. Saved SCF plot with prefix: uav_cap1_composite. fs=20.000 Msps, fc=2.412 GHz, N=5000000\n"
     ]
    }
   ],
   "source": [
    "%run cochannel_uav_detect.py \\\n",
    "  --host localhost --user root --password 'P@$$w0rd_123' --database rf_db \\\n",
    "  --capture_id 1 --signal_name composite \\\n",
    "  --nfft 16384 --overlap 0.75 \\\n",
    "  --alpha_start 0.00 --alpha_stop 1.2e6 --alpha_step 5e3 \\\n",
    "  --prefix uav"
   ]
  },
  {
   "cell_type": "code",
   "execution_count": null,
   "id": "60e84543-d4a9-4fda-b455-524ef9582731",
   "metadata": {},
   "outputs": [],
   "source": []
  }
 ],
 "metadata": {
  "kernelspec": {
   "display_name": "Python [conda env:base] *",
   "language": "python",
   "name": "conda-base-py"
  },
  "language_info": {
   "codemirror_mode": {
    "name": "ipython",
    "version": 3
   },
   "file_extension": ".py",
   "mimetype": "text/x-python",
   "name": "python",
   "nbconvert_exporter": "python",
   "pygments_lexer": "ipython3",
   "version": "3.12.7"
  }
 },
 "nbformat": 4,
 "nbformat_minor": 5
}
